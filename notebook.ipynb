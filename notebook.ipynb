{
 "cells": [
  {
   "cell_type": "code",
   "execution_count": 26,
   "metadata": {},
   "outputs": [],
   "source": [
    "databases = {\n",
    "\"fra\":\"seta-fra.cvcpj1fhj3k9.us-east-2.rds.amazonaws.com\",\n",
    "\"gbr\":\"seta-gbr.cvcpj1fhj3k9.us-east-2.rds.amazonaws.com\",\n",
    "\"ita\":\"seta-ita.cvcpj1fhj3k9.us-east-2.rds.amazonaws.com\"\n",
    "}"
   ]
  },
  {
   "cell_type": "code",
   "execution_count": 27,
   "metadata": {},
   "outputs": [
    {
     "name": "stdout",
     "output_type": "stream",
     "text": [
      "11\n"
     ]
    }
   ],
   "source": [
    "import psycopg2\n",
    "\n",
    "count = 0\n",
    "\n",
    "for k, v in databases.items():\n",
    "  connection = psycopg2.connect(host=v, database=k, user='seta', password='defaultUnsafePassword')\n",
    "  cursor = connection.cursor()\n",
    "  cursor.execute(\"SELECT COUNT(id) FROM responses\")\n",
    "  count += sum(cursor.fetchone())\n",
    "\n",
    "print(count)\n"
   ]
  }
 ],
 "metadata": {
  "kernelspec": {
   "display_name": "Python 3.10.4 ('env': venv)",
   "language": "python",
   "name": "python3"
  },
  "language_info": {
   "codemirror_mode": {
    "name": "ipython",
    "version": 3
   },
   "file_extension": ".py",
   "mimetype": "text/x-python",
   "name": "python",
   "nbconvert_exporter": "python",
   "pygments_lexer": "ipython3",
   "version": "3.10.4"
  },
  "orig_nbformat": 4,
  "vscode": {
   "interpreter": {
    "hash": "c8210000533dcc1d2a997045593250ee04871e886fdb6d5fe1d6133449be213a"
   }
  }
 },
 "nbformat": 4,
 "nbformat_minor": 2
}
