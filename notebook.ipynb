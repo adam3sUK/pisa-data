{
 "cells": [
  {
   "cell_type": "code",
   "execution_count": 1,
   "metadata": {},
   "outputs": [],
   "source": [
    "databases = {\n",
    "\"fra\":\"seta-fra.cvcpj1fhj3k9.us-east-2.rds.amazonaws.com\",\n",
    "\"gbr\":\"seta-gbr.cvcpj1fhj3k9.us-east-2.rds.amazonaws.com\",\n",
    "\"ita\":\"seta-ita.cvcpj1fhj3k9.us-east-2.rds.amazonaws.com\"\n",
    "}"
   ]
  },
  {
   "cell_type": "code",
   "execution_count": 4,
   "metadata": {},
   "outputs": [
    {
     "name": "stdout",
     "output_type": "stream",
     "text": [
      "400\n"
     ]
    }
   ],
   "source": [
    "import psycopg2\n",
    "\n",
    "connection = psycopg2.connect(host='pisa2018.cvruukypsgyb.eu-west-2.rds.amazonaws.com', database='postgres', user='postgres', password='dQ4hVXnipUJSMw8')\n",
    "cursor = connection.cursor()\n",
    "cursor.execute(\"SELECT count FROM total_submissions WHERE id = 1\")\n",
    "print(sum(cursor.fetchone()))\n"
   ]
  }
 ],
 "metadata": {
  "kernelspec": {
   "display_name": "Python 3.10.4 ('env': venv)",
   "language": "python",
   "name": "python3"
  },
  "language_info": {
   "codemirror_mode": {
    "name": "ipython",
    "version": 3
   },
   "file_extension": ".py",
   "mimetype": "text/x-python",
   "name": "python",
   "nbconvert_exporter": "python",
   "pygments_lexer": "ipython3",
   "version": "3.10.4"
  },
  "orig_nbformat": 4,
  "vscode": {
   "interpreter": {
    "hash": "c8210000533dcc1d2a997045593250ee04871e886fdb6d5fe1d6133449be213a"
   }
  }
 },
 "nbformat": 4,
 "nbformat_minor": 2
}
